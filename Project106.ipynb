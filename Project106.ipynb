{
  "nbformat": 4,
  "nbformat_minor": 0,
  "metadata": {
    "colab": {
      "provenance": [],
      "authorship_tag": "ABX9TyPzUD2t2xAu3SYYMezV2BAx",
      "include_colab_link": true
    },
    "kernelspec": {
      "name": "python3",
      "display_name": "Python 3"
    },
    "language_info": {
      "name": "python"
    }
  },
  "cells": [
    {
      "cell_type": "markdown",
      "metadata": {
        "id": "view-in-github",
        "colab_type": "text"
      },
      "source": [
        "<a href=\"https://colab.research.google.com/github/Shriyansh1/Shooting-range-1/blob/main/Project106.ipynb\" target=\"_parent\"><img src=\"https://colab.research.google.com/assets/colab-badge.svg\" alt=\"Open In Colab\"/></a>"
      ]
    },
    {
      "cell_type": "markdown",
      "source": [
        "# Sequential Data Type"
      ],
      "metadata": {
        "id": "XOINbJnhzX2Y"
      }
    },
    {
      "cell_type": "code",
      "execution_count": 28,
      "metadata": {
        "colab": {
          "base_uri": "https://localhost:8080/"
        },
        "id": "D7xxnhizzUZv",
        "outputId": "b42e260a-08af-44ce-82ff-fa009c0f41ff"
      },
      "outputs": [
        {
          "output_type": "stream",
          "name": "stdout",
          "text": [
            "[22, 24, 26]\n",
            "[28, 30, 34]\n",
            "[28, 30, 34, 39, 50, 10000000000000000000000000000000000000000000000000]\n",
            "[20, 24, 28, 34, 50]\n",
            "[20, 22, 42, 26, 28, 30, 34, 39, 50, 10000000000000000000000000000000000000000000000000]\n"
          ]
        }
      ],
      "source": [
        "l1=[20,22,24,26,28,30,34,39,50,10000000000000000000000000000000000000000000000000]\n",
        "print(l1[1:4])\n",
        "print(l1[4:7])\n",
        "print(l1[4:])\n",
        "print(l1[0:11:2])\n",
        "l1[2]=42\n",
        "print(l1)\n",
        "\n"
      ]
    },
    {
      "cell_type": "code",
      "source": [
        "l2=[0,1,2,3,4,5,6,7,8,9,10]\n",
        "l2[::5]\n",
        "for d in l2:\n",
        "  print(d,end=\"hp nova\")"
      ],
      "metadata": {
        "colab": {
          "base_uri": "https://localhost:8080/"
        },
        "id": "nVbeCRAH2TEc",
        "outputId": "674bdce2-b89a-41b2-d0e8-57566067cfce"
      },
      "execution_count": 21,
      "outputs": [
        {
          "output_type": "stream",
          "name": "stdout",
          "text": [
            "0hp nova1hp nova2hp nova3hp nova4hp nova5hp nova6hp nova7hp nova8hp nova9hp nova10hp nova"
          ]
        }
      ]
    },
    {
      "cell_type": "code",
      "source": [
        "range(1,10)\n",
        "print(range(1,11))\n",
        "for x in range(0,11):\n",
        "  print(x)"
      ],
      "metadata": {
        "colab": {
          "base_uri": "https://localhost:8080/"
        },
        "id": "Dinsw9Ep3-gE",
        "outputId": "0f809e2e-2eb2-4d63-bb79-4f7650425abf"
      },
      "execution_count": 24,
      "outputs": [
        {
          "output_type": "stream",
          "name": "stdout",
          "text": [
            "range(1, 11)\n",
            "0\n",
            "1\n",
            "2\n",
            "3\n",
            "4\n",
            "5\n",
            "6\n",
            "7\n",
            "8\n",
            "9\n",
            "10\n"
          ]
        }
      ]
    },
    {
      "cell_type": "code",
      "source": [
        "for y in range(0,10000000000000000000000000000,2):\n",
        "  print(y)"
      ],
      "metadata": {
        "colab": {
          "base_uri": "https://localhost:8080/"
        },
        "id": "nVqQG9bJ5Lvz",
        "outputId": "0df00375-d461-4d74-d8b7-c9640ad62459"
      },
      "execution_count": 25,
      "outputs": [
        {
          "output_type": "stream",
          "name": "stdout",
          "text": [
            "0\n",
            "2\n",
            "4\n",
            "6\n",
            "8\n",
            "10\n"
          ]
        }
      ]
    },
    {
      "cell_type": "code",
      "source": [
        "for xyz in range(10,0,-1):\n",
        "  print(xyz)"
      ],
      "metadata": {
        "colab": {
          "base_uri": "https://localhost:8080/"
        },
        "id": "SSXLmF6i5l1e",
        "outputId": "bb8fc21b-2ba3-4954-e4e1-d209135a2520"
      },
      "execution_count": 26,
      "outputs": [
        {
          "output_type": "stream",
          "name": "stdout",
          "text": [
            "10\n",
            "9\n",
            "8\n",
            "7\n",
            "6\n",
            "5\n",
            "4\n",
            "3\n",
            "2\n",
            "1\n"
          ]
        }
      ]
    },
    {
      "cell_type": "code",
      "source": [
        "marks=[33,66,99,100,22,44,66,88,11,33,66,99]\n",
        "count=0\n",
        "num=33\n",
        "for al in marks:\n",
        "  if(num==al):\n",
        "    count+=1\n",
        "print(count)"
      ],
      "metadata": {
        "colab": {
          "base_uri": "https://localhost:8080/"
        },
        "id": "JxmhN6XR6F71",
        "outputId": "8e600b1e-c744-4bb4-8c4e-4aa11dfc1a2f"
      },
      "execution_count": 27,
      "outputs": [
        {
          "output_type": "stream",
          "name": "stdout",
          "text": [
            "2\n"
          ]
        }
      ]
    },
    {
      "cell_type": "markdown",
      "source": [
        "# tuple\n"
      ],
      "metadata": {
        "id": "lHrRTLPK7aWP"
      }
    },
    {
      "cell_type": "code",
      "source": [
        "t1=(5,2,3,4,5,6,7,8)\n",
        "t1[::2]\n"
      ],
      "metadata": {
        "colab": {
          "base_uri": "https://localhost:8080/"
        },
        "id": "g2-1YNP07f5s",
        "outputId": "14a97b07-b34e-4aa7-8411-672cece6f85c"
      },
      "execution_count": 32,
      "outputs": [
        {
          "output_type": "execute_result",
          "data": {
            "text/plain": [
              "(5, 3, 5, 7)"
            ]
          },
          "metadata": {},
          "execution_count": 32
        }
      ]
    },
    {
      "cell_type": "markdown",
      "source": [
        "# Project 106\n"
      ],
      "metadata": {
        "id": "wf_Kn2LM8lQr"
      }
    },
    {
      "cell_type": "code",
      "source": [
        "resultlist=['Maths','90','English','80','History','75','Art','85']\n",
        "print(resultlist[::2])\n",
        "print(resultlist[1::2])"
      ],
      "metadata": {
        "colab": {
          "base_uri": "https://localhost:8080/"
        },
        "id": "gzh8YbQU8pVL",
        "outputId": "43260a1b-3aa5-4b59-ed06-21357a392bd7"
      },
      "execution_count": 36,
      "outputs": [
        {
          "output_type": "stream",
          "name": "stdout",
          "text": [
            "['Maths', 'English', 'History', 'Art']\n",
            "['90', '80', '75', '85']\n"
          ]
        }
      ]
    }
  ]
}